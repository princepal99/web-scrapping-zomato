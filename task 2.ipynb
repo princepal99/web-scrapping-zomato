{
 "cells": [
  {
   "cell_type": "code",
   "execution_count": 40,
   "metadata": {},
   "outputs": [],
   "source": [
    "import requests\n",
    "from bs4 import BeautifulSoup\n",
    "header={'user-agent': 'Mozilla/5.0 (Windows NT 10.0; Win64; x64) AppleWebKit/537.36 (KHTML, like Gecko) Chrome/75.0.3770.142 Safari/537.36'}\n",
    "r=requests.get(\"https://www.zomato.com/allahabad/delivery-in-dhoomanganj?ref_page=subzone\",headers=header)\n",
    "c=r.content\n",
    "soup=BeautifulSoup(c,\"html.parser\")\n",
    "all=soup.find_all(\"div\")\n",
    "#print(soup.prettify())\n",
    "name=soup.find_all(\"a\",{\"class\",\"result-title hover_feedback zred bold ln24 fontsize0 \"})\n",
    "#print(all)\n",
    "#for item in name:\n",
    "    #print(item.text)"
   ]
  },
  {
   "cell_type": "code",
   "execution_count": 58,
   "metadata": {},
   "outputs": [],
   "source": [
    "area=soup.find_all(\"a\",{\"class\":\"ln24 search-page-text mr10 zblack search_result_subzone left\"})\n",
    "#for item in area:\n",
    "   # print(item.text)\n",
    "add=soup.find_all(\"div\",{\"class\":\"col-m-16 search-result-address grey-text nowrap ln22\"})\n",
    "#for item in add:\n",
    "   # print(item.text)\n",
    "cost=soup.find_all(\"span\",{\"class\":\"col-s-11 col-m-12 pl0\"})\n",
    "#for item in cost:\n",
    "    #print(item.text)\n",
    "rate=soup.find_all(\"div\",{\"data-variation\":\"mini inverted\"})\n",
    "#for item in rate:\n",
    "    #print(item.text.replace(\" \",\"\"))\n",
    "hr=soup.find_all(\"div\",{\"class\":\"res-timing clearfix \"})\n",
    "for item in hr:\n",
    "    print(item.title.text.replace(\" \",\"\"))"
   ]
  }
 ],
 "metadata": {
  "kernelspec": {
   "display_name": "Python 3",
   "language": "python",
   "name": "python3"
  },
  "language_info": {
   "codemirror_mode": {
    "name": "ipython",
    "version": 3
   },
   "file_extension": ".py",
   "mimetype": "text/x-python",
   "name": "python",
   "nbconvert_exporter": "python",
   "pygments_lexer": "ipython3",
   "version": "3.6.5"
  }
 },
 "nbformat": 4,
 "nbformat_minor": 2
}
